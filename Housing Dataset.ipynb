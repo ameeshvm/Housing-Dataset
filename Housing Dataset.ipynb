{
 "cells": [
  {
   "cell_type": "code",
   "execution_count": 1,
   "id": "18a31e59",
   "metadata": {
    "_cell_guid": "b1076dfc-b9ad-4769-8c92-a6c4dae69d19",
    "_uuid": "8f2839f25d086af736a60e9eeb907d3b93b6e0e5",
    "execution": {
     "iopub.execute_input": "2023-10-17T19:47:02.515256Z",
     "iopub.status.busy": "2023-10-17T19:47:02.514037Z",
     "iopub.status.idle": "2023-10-17T19:47:02.958753Z",
     "shell.execute_reply": "2023-10-17T19:47:02.957517Z"
    },
    "papermill": {
     "duration": 0.451141,
     "end_time": "2023-10-17T19:47:02.961252",
     "exception": false,
     "start_time": "2023-10-17T19:47:02.510111",
     "status": "completed"
    },
    "tags": []
   },
   "outputs": [],
   "source": [
    "import pandas as pd"
   ]
  },
  {
   "cell_type": "code",
   "execution_count": 2,
   "id": "0b01839a",
   "metadata": {
    "execution": {
     "iopub.execute_input": "2023-10-17T19:47:02.969620Z",
     "iopub.status.busy": "2023-10-17T19:47:02.968995Z",
     "iopub.status.idle": "2023-10-17T19:47:03.013923Z",
     "shell.execute_reply": "2023-10-17T19:47:03.012606Z"
    },
    "papermill": {
     "duration": 0.051025,
     "end_time": "2023-10-17T19:47:03.016383",
     "exception": false,
     "start_time": "2023-10-17T19:47:02.965358",
     "status": "completed"
    },
    "tags": []
   },
   "outputs": [
    {
     "data": {
      "text/html": [
       "<div>\n",
       "<style scoped>\n",
       "    .dataframe tbody tr th:only-of-type {\n",
       "        vertical-align: middle;\n",
       "    }\n",
       "\n",
       "    .dataframe tbody tr th {\n",
       "        vertical-align: top;\n",
       "    }\n",
       "\n",
       "    .dataframe thead th {\n",
       "        text-align: right;\n",
       "    }\n",
       "</style>\n",
       "<table border=\"1\" class=\"dataframe\">\n",
       "  <thead>\n",
       "    <tr style=\"text-align: right;\">\n",
       "      <th></th>\n",
       "      <th>Square Feet</th>\n",
       "      <th>House Prices</th>\n",
       "      <th>Location</th>\n",
       "    </tr>\n",
       "  </thead>\n",
       "  <tbody>\n",
       "    <tr>\n",
       "      <th>0</th>\n",
       "      <td>1732</td>\n",
       "      <td>1604395</td>\n",
       "      <td>Ontario</td>\n",
       "    </tr>\n",
       "    <tr>\n",
       "      <th>1</th>\n",
       "      <td>1796</td>\n",
       "      <td>1928762</td>\n",
       "      <td>Ontario</td>\n",
       "    </tr>\n",
       "    <tr>\n",
       "      <th>2</th>\n",
       "      <td>2994</td>\n",
       "      <td>3355920</td>\n",
       "      <td>Ontario</td>\n",
       "    </tr>\n",
       "    <tr>\n",
       "      <th>3</th>\n",
       "      <td>2183</td>\n",
       "      <td>2617532</td>\n",
       "      <td>Ontario</td>\n",
       "    </tr>\n",
       "    <tr>\n",
       "      <th>4</th>\n",
       "      <td>1566</td>\n",
       "      <td>1952100</td>\n",
       "      <td>Ontario</td>\n",
       "    </tr>\n",
       "    <tr>\n",
       "      <th>5</th>\n",
       "      <td>1618</td>\n",
       "      <td>1446051</td>\n",
       "      <td>Ontario</td>\n",
       "    </tr>\n",
       "    <tr>\n",
       "      <th>6</th>\n",
       "      <td>2807</td>\n",
       "      <td>2595134</td>\n",
       "      <td>Ontario</td>\n",
       "    </tr>\n",
       "    <tr>\n",
       "      <th>7</th>\n",
       "      <td>2962</td>\n",
       "      <td>2954302</td>\n",
       "      <td>Ontario</td>\n",
       "    </tr>\n",
       "    <tr>\n",
       "      <th>8</th>\n",
       "      <td>2419</td>\n",
       "      <td>2517238</td>\n",
       "      <td>Ontario</td>\n",
       "    </tr>\n",
       "    <tr>\n",
       "      <th>9</th>\n",
       "      <td>2021</td>\n",
       "      <td>2120163</td>\n",
       "      <td>Ontario</td>\n",
       "    </tr>\n",
       "  </tbody>\n",
       "</table>\n",
       "</div>"
      ],
      "text/plain": [
       "   Square Feet  House Prices Location\n",
       "0         1732       1604395  Ontario\n",
       "1         1796       1928762  Ontario\n",
       "2         2994       3355920  Ontario\n",
       "3         2183       2617532  Ontario\n",
       "4         1566       1952100  Ontario\n",
       "5         1618       1446051  Ontario\n",
       "6         2807       2595134  Ontario\n",
       "7         2962       2954302  Ontario\n",
       "8         2419       2517238  Ontario\n",
       "9         2021       2120163  Ontario"
      ]
     },
     "execution_count": 2,
     "metadata": {},
     "output_type": "execute_result"
    }
   ],
   "source": [
    "dataframe = pd.read_csv('../input/houses/houses.csv')\n",
    "dataframe.head(n=10)"
   ]
  },
  {
   "cell_type": "code",
   "execution_count": 3,
   "id": "ef6fb368",
   "metadata": {
    "execution": {
     "iopub.execute_input": "2023-10-17T19:47:03.022191Z",
     "iopub.status.busy": "2023-10-17T19:47:03.021862Z",
     "iopub.status.idle": "2023-10-17T19:47:03.040804Z",
     "shell.execute_reply": "2023-10-17T19:47:03.039417Z"
    },
    "papermill": {
     "duration": 0.024527,
     "end_time": "2023-10-17T19:47:03.043097",
     "exception": false,
     "start_time": "2023-10-17T19:47:03.018570",
     "status": "completed"
    },
    "tags": []
   },
   "outputs": [
    {
     "data": {
      "text/html": [
       "<div>\n",
       "<style scoped>\n",
       "    .dataframe tbody tr th:only-of-type {\n",
       "        vertical-align: middle;\n",
       "    }\n",
       "\n",
       "    .dataframe tbody tr th {\n",
       "        vertical-align: top;\n",
       "    }\n",
       "\n",
       "    .dataframe thead th {\n",
       "        text-align: right;\n",
       "    }\n",
       "</style>\n",
       "<table border=\"1\" class=\"dataframe\">\n",
       "  <thead>\n",
       "    <tr style=\"text-align: right;\">\n",
       "      <th></th>\n",
       "      <th>Square Feet</th>\n",
       "      <th>House Prices</th>\n",
       "      <th>Location</th>\n",
       "    </tr>\n",
       "  </thead>\n",
       "  <tbody>\n",
       "    <tr>\n",
       "      <th>0</th>\n",
       "      <td>1732</td>\n",
       "      <td>1604395</td>\n",
       "      <td>1</td>\n",
       "    </tr>\n",
       "    <tr>\n",
       "      <th>1</th>\n",
       "      <td>1796</td>\n",
       "      <td>1928762</td>\n",
       "      <td>1</td>\n",
       "    </tr>\n",
       "    <tr>\n",
       "      <th>2</th>\n",
       "      <td>2994</td>\n",
       "      <td>3355920</td>\n",
       "      <td>1</td>\n",
       "    </tr>\n",
       "    <tr>\n",
       "      <th>3</th>\n",
       "      <td>2183</td>\n",
       "      <td>2617532</td>\n",
       "      <td>1</td>\n",
       "    </tr>\n",
       "    <tr>\n",
       "      <th>4</th>\n",
       "      <td>1566</td>\n",
       "      <td>1952100</td>\n",
       "      <td>1</td>\n",
       "    </tr>\n",
       "  </tbody>\n",
       "</table>\n",
       "</div>"
      ],
      "text/plain": [
       "   Square Feet  House Prices Location\n",
       "0         1732       1604395        1\n",
       "1         1796       1928762        1\n",
       "2         2994       3355920        1\n",
       "3         2183       2617532        1\n",
       "4         1566       1952100        1"
      ]
     },
     "execution_count": 3,
     "metadata": {},
     "output_type": "execute_result"
    }
   ],
   "source": [
    "for x in range(len(dataframe)):\n",
    "    if dataframe.iloc[x, 2] == 'Ontario':\n",
    "        dataframe.iloc[x, 2] = 1\n",
    "    \n",
    "    else:\n",
    "        dataframe.iloc[x, 2] = 0\n",
    "    \n",
    "    \n",
    "dataframe.head()"
   ]
  }
 ],
 "metadata": {
  "kernelspec": {
   "display_name": "Python 3",
   "language": "python",
   "name": "python3"
  },
  "language_info": {
   "codemirror_mode": {
    "name": "ipython",
    "version": 3
   },
   "file_extension": ".py",
   "mimetype": "text/x-python",
   "name": "python",
   "nbconvert_exporter": "python",
   "pygments_lexer": "ipython3",
   "version": "3.10.12"
  },
  "papermill": {
   "default_parameters": {},
   "duration": 4.110302,
   "end_time": "2023-10-17T19:47:03.466069",
   "environment_variables": {},
   "exception": null,
   "input_path": "__notebook__.ipynb",
   "output_path": "__notebook__.ipynb",
   "parameters": {},
   "start_time": "2023-10-17T19:46:59.355767",
   "version": "2.4.0"
  }
 },
 "nbformat": 4,
 "nbformat_minor": 5
}
